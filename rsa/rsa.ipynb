{
 "cells": [
  {
   "cell_type": "code",
   "execution_count": 1,
   "metadata": {},
   "outputs": [],
   "source": [
    "# Eratostenove sito na hladanie prvocisel mensich ako zadane n\n",
    "\n",
    "def getPrimes(n):\n",
    "    sito = [1 for k in range(0,n)]\n",
    "    for i in range(2,n):\n",
    "        if sito[i] == 1:\n",
    "            for j in range(2*i,n,i):\n",
    "                sito[j] = 0\n",
    "                \n",
    "    primes = [k for k in range(2,n) if sito[k] == 1]\n",
    "    return primes"
   ]
  },
  {
   "cell_type": "code",
   "execution_count": 7,
   "metadata": {},
   "outputs": [],
   "source": [
    "# vytvorenie zoznamu prvocisel\n",
    "\n",
    "primes = getPrimes(100000)\n",
    "#print(\"Zoznam prvocisel:\", primes)"
   ]
  },
  {
   "cell_type": "code",
   "execution_count": 4,
   "metadata": {},
   "outputs": [],
   "source": [
    "# generovanie nahodneho prvocisla zo zoznamu\n",
    "\n",
    "import random\n",
    "\n",
    "def randPrime(primes):\n",
    "    index = random.randrange(len(primes))\n",
    "    return primes[index]"
   ]
  },
  {
   "cell_type": "code",
   "execution_count": 10,
   "metadata": {},
   "outputs": [
    {
     "name": "stdout",
     "output_type": "stream",
     "text": [
      "Vygenerovane nahodne cisla p = 86711 , q = 67733\n"
     ]
    }
   ],
   "source": [
    "# vygenerovanie dvoch roznych prvocisel pre RSA algoritmus\n",
    "\n",
    "while True:\n",
    "    p = randPrime(primes)\n",
    "    q = randPrime(primes)\n",
    "    if p != q and p > 20 and q > 20:\n",
    "        break\n",
    "        \n",
    "print(\"Vygenerovane nahodne cisla p =\", p,\", q =\", q)"
   ]
  },
  {
   "cell_type": "code",
   "execution_count": 11,
   "metadata": {},
   "outputs": [
    {
     "name": "stdout",
     "output_type": "stream",
     "text": [
      "Modulus n = p * q = 5873196163\n"
     ]
    }
   ],
   "source": [
    "# modulus je sucin prvocisel\n",
    "\n",
    "n = p * q\n",
    "print(\"Modulus n = p * q =\", n)"
   ]
  },
  {
   "cell_type": "code",
   "execution_count": 12,
   "metadata": {},
   "outputs": [
    {
     "name": "stdout",
     "output_type": "stream",
     "text": [
      "5873041720\n"
     ]
    }
   ],
   "source": [
    "# vypocet hodnoty Eulerovej funkcie fi(n) pre modulus n\n",
    "# (pocet nesudelitelnych cisel s n mensich ako n)\n",
    "# v tomto pripade je to (p-1) * (q - 1)\n",
    "\n",
    "fi_n = (p - 1) * (q - 1)\n",
    "print(fi_n)"
   ]
  },
  {
   "cell_type": "code",
   "execution_count": 19,
   "metadata": {},
   "outputs": [
    {
     "name": "stdout",
     "output_type": "stream",
     "text": [
      "x = 3986083203\n",
      "3986083203 ^ 5873041720 mod 5873196163 = 1\n"
     ]
    }
   ],
   "source": [
    "# plati, ze umocnenie lubovolneho x na fi(n) modulo n musi byt rovne 1\n",
    "\n",
    "x = random.randrange(1,n)\n",
    "print(\"x\", \"=\", x)\n",
    "print(x, \"^\", fi_n, \"mod\", n, \"=\", pow(x,fi_n,n))"
   ]
  },
  {
   "cell_type": "code",
   "execution_count": 21,
   "metadata": {},
   "outputs": [],
   "source": [
    "# Euklidov algoritmus na najdenie najvacsieho spolocneho delitela dvoch cisel\n",
    "\n",
    "def gcd(a, b):\n",
    "    while b != 0:\n",
    "        a, b = b, a % b\n",
    "    return a"
   ]
  },
  {
   "cell_type": "code",
   "execution_count": 22,
   "metadata": {},
   "outputs": [
    {
     "name": "stdout",
     "output_type": "stream",
     "text": [
      "Najvacsi spolocny delitel 45 a 60 je 15\n"
     ]
    }
   ],
   "source": [
    "print(\"Najvacsi spolocny delitel 45 a 60 je\", gcd(45, 60))"
   ]
  },
  {
   "cell_type": "code",
   "execution_count": 25,
   "metadata": {},
   "outputs": [
    {
     "name": "stdout",
     "output_type": "stream",
     "text": [
      "Verejny exponent e =  3\n",
      "Verejny kluc pre RSA algoritmus bude (n, e) = ( 5873196163 , 3 )\n"
     ]
    }
   ],
   "source": [
    "# musim zvolit take e, aby bolo nesudelitelne s fi(n)\n",
    "# t.j. gcd(e,fi(n)) musi byt rovne 1\n",
    "# e sa voli vacsinou ako relativne male prvocislo (realne som nevidel ine ako 65537)\n",
    "# nazyva sa aj verejny exponent\n",
    "\n",
    "for p in primes:\n",
    "    e = p\n",
    "    if gcd(e,fi_n) == 1:\n",
    "        break\n",
    "        \n",
    "print(\"Verejny exponent e = \", e)\n",
    "print(\"Verejny kluc pre RSA algoritmus bude (n, e) = (\", n, \",\", e, \")\")"
   ]
  },
  {
   "cell_type": "code",
   "execution_count": 26,
   "metadata": {},
   "outputs": [
    {
     "name": "stdout",
     "output_type": "stream",
     "text": [
      "Privatny exponent d = e^(-1) mod fi(n) = 3915361147\n",
      "e * d mod fi(n) = 3 * 3915361147 mod 5873041720 = 1\n",
      "Privatny kluc RSA algoritmu (n, d) = ( 5873196163 , 3915361147 )\n"
     ]
    }
   ],
   "source": [
    "# privatny exponent d vypocitam tak, aby platilo\n",
    "# e * d mod fi(n) == 1\n",
    "\n",
    "# na to budem potrebovat rozsireny Euklidov algoritmus\n",
    "def egcd(a, b):\n",
    "    u0, u1, v0, v1 = 1, 0, 0, 1\n",
    "    while b != 0:\n",
    "        q, a, b = a // b, b, a % b\n",
    "        u0, u1 = u1, u0 - q * u1\n",
    "        v0, v1 = v1, v0 - q * v1\n",
    "    return  a, u0, v0\n",
    "\n",
    "# Inverzny prvok modulo sa potom vypocita lahko\n",
    "def modInverse(a, n):\n",
    "    gcd, u, v = egcd(a, n)\n",
    "    if gcd == 1:\n",
    "        return u % n\n",
    "    \n",
    "d = modInverse(e, fi_n)\n",
    "print(\"Privatny exponent d = e^(-1) mod fi(n) =\", d)\n",
    "print(\"e * d mod fi(n) =\", e, \"*\", d, \"mod\", fi_n, \"=\", e * d % fi_n)\n",
    "print(\"Privatny kluc RSA algoritmu (n, d) = (\", n, \",\", d, \")\")\n"
   ]
  },
  {
   "cell_type": "code",
   "execution_count": 27,
   "metadata": {},
   "outputs": [
    {
     "name": "stdout",
     "output_type": "stream",
     "text": [
      "Spravu x = 123 zasifrujem pomocou verejneho kluca na y = x^e mod n = 123 ^ 3 mod 5873196163 = 1860867\n"
     ]
    }
   ],
   "source": [
    "# Ak chcem niekomu poslat zasifrovanu spravu (cislo)\n",
    "# potrebujem jeho verejny kluc (prijimatela sifrovanej spravy)\n",
    "\n",
    "x = 123\n",
    "y = pow(x, e, n)\n",
    "print(\"Spravu x =\", x, \"zasifrujem pomocou verejneho kluca na y = x^e mod n =\", x, \"^\", e, \"mod\", n, \"=\", y)"
   ]
  },
  {
   "cell_type": "code",
   "execution_count": 28,
   "metadata": {},
   "outputs": [
    {
     "name": "stdout",
     "output_type": "stream",
     "text": [
      "Sifrovanu spravu y = 1860867 desifrujem pomocou privatneho kluca na x = y^d mod n = 1860867 ^ 3915361147 mod 5873196163 = 123\n"
     ]
    }
   ],
   "source": [
    "# Prijimatel spravu desifruje pomocou svojho privatneho kluca\n",
    "\n",
    "xx = pow(y, d, n)\n",
    "print(\"Sifrovanu spravu y =\", y, \"desifrujem pomocou privatneho kluca na x = y^d mod n =\", y, \"^\", d, \"mod\", n, \"=\", xx)"
   ]
  },
  {
   "cell_type": "code",
   "execution_count": 40,
   "metadata": {},
   "outputs": [
    {
     "name": "stdout",
     "output_type": "stream",
     "text": [
      "Rozklad modulu n = 5183 na prvocinitele: [(71, 1), (73, 1)]\n"
     ]
    }
   ],
   "source": [
    "# Prelomenie verejneho kluca znamena \"uhadnut\" prvocisla p a q, z ktorych bolo vypocitane n\n",
    "# Pre male to nie je problem pomocou faktorizacie s postupnym delenim\n",
    "\n",
    "def factorize(n):\n",
    "    result = []\n",
    "    i = 2\n",
    "    while (n > 1):\n",
    "        j = 0;\n",
    "        while (n % i == 0):\n",
    "            n = n / i\n",
    "            j = j + 1\n",
    "        if (j > 0):\n",
    "            result.append((i,j))\n",
    "        i = i + 1\n",
    "    return result\n",
    "\n",
    "print(\"Rozklad modulu n =\", n, \"na prvocinitele:\", factorize(n))"
   ]
  },
  {
   "cell_type": "code",
   "execution_count": 41,
   "metadata": {},
   "outputs": [
    {
     "name": "stdout",
     "output_type": "stream",
     "text": [
      "Rozklad modulu n = 13169004533 na prvocinitele: [(101279, 1), (130027, 1)]\n"
     ]
    }
   ],
   "source": [
    "n = 56341958081545199783\n",
    "print(\"Rozklad modulu n =\", n, \"na prvocinitele:\", factorize(n))"
   ]
  },
  {
   "cell_type": "code",
   "execution_count": 42,
   "metadata": {},
   "outputs": [],
   "source": [
    "p = 101279\n",
    "q = 130027"
   ]
  },
  {
   "cell_type": "code",
   "execution_count": 43,
   "metadata": {},
   "outputs": [
    {
     "name": "stdout",
     "output_type": "stream",
     "text": [
      "13169004533\n"
     ]
    }
   ],
   "source": [
    "n = p * q\n",
    "print(n)"
   ]
  },
  {
   "cell_type": "code",
   "execution_count": 44,
   "metadata": {},
   "outputs": [
    {
     "name": "stdout",
     "output_type": "stream",
     "text": [
      "13168773228\n"
     ]
    }
   ],
   "source": [
    "fi_n = (p-1)*(q-1)\n",
    "print(fi_n)"
   ]
  },
  {
   "cell_type": "code",
   "execution_count": 45,
   "metadata": {},
   "outputs": [
    {
     "name": "stdout",
     "output_type": "stream",
     "text": [
      "72739001\n"
     ]
    }
   ],
   "source": [
    "e = 65537\n",
    "d = modInverse(e,fi_n)\n",
    "print(d)"
   ]
  },
  {
   "cell_type": "code",
   "execution_count": 46,
   "metadata": {},
   "outputs": [
    {
     "name": "stdout",
     "output_type": "stream",
     "text": [
      "1234567890\n"
     ]
    }
   ],
   "source": [
    "y = 6029832903\n",
    "x = pow(y,d,n)\n",
    "print(x)"
   ]
  },
  {
   "cell_type": "code",
   "execution_count": null,
   "metadata": {},
   "outputs": [],
   "source": []
  }
 ],
 "metadata": {
  "interpreter": {
   "hash": "c469c999aae2bf6d578d6881606ced546d1546d312a4811937df5b24665ee8bc"
  },
  "kernelspec": {
   "display_name": "Python 3.8.5 64-bit ('base': conda)",
   "name": "python3"
  },
  "language_info": {
   "codemirror_mode": {
    "name": "ipython",
    "version": 3
   },
   "file_extension": ".py",
   "mimetype": "text/x-python",
   "name": "python",
   "nbconvert_exporter": "python",
   "pygments_lexer": "ipython3",
   "version": "3.8.5"
  },
  "latex_envs": {
   "LaTeX_envs_menu_present": true,
   "autoclose": false,
   "autocomplete": true,
   "bibliofile": "biblio.bib",
   "cite_by": "apalike",
   "current_citInitial": 1,
   "eqLabelWithNumbers": true,
   "eqNumInitial": 1,
   "hotkeys": {
    "equation": "Ctrl-E",
    "itemize": "Ctrl-I"
   },
   "labels_anchors": false,
   "latex_user_defs": false,
   "report_style_numbering": false,
   "user_envs_cfg": false
  }
 },
 "nbformat": 4,
 "nbformat_minor": 2
}
