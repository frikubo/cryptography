{
 "cells": [
  {
   "cell_type": "code",
   "execution_count": 1,
   "metadata": {},
   "outputs": [],
   "source": [
    "import math\n",
    "\n",
    "def primeTest(n):\n",
    "    ub = 1 + int(math.sqrt(n))\n",
    "    for d in range(2, ub):\n",
    "        if(n % d == 0):\n",
    "            print(f\"{d} deli {n}\")\n",
    "            return False, d\n",
    "    print(f\"ziadny delitel\")\n",
    "    return True, _"
   ]
  },
  {
   "cell_type": "code",
   "execution_count": 2,
   "metadata": {},
   "outputs": [],
   "source": [
    "from itertools import count\n",
    "from math import gcd\n",
    "\n",
    "#number -> n, x -> starting value\n",
    "def pollard(number, x):\n",
    "    for cycle in count(1):\n",
    "        y = x\n",
    "        for i in range(2 ** cycle):\n",
    "            x = (x * x + 1) % number\n",
    "            factor = gcd(x - y, number)\n",
    "            if factor > 1:\n",
    "                print(\"factor is\", factor)\n",
    "                return factor"
   ]
  },
  {
   "cell_type": "code",
   "execution_count": 1,
   "metadata": {},
   "outputs": [],
   "source": [
    "def egcd(a, b):\n",
    "    p1, p2 = 0, 1\n",
    "    while b != 0:\n",
    "        q, a, b = a // b, b, a % b\n",
    "        p1, p2 = p2, p1 - q * p2\n",
    "    return  a, p1\n",
    "\n",
    "def modInverse(fi_n, e):\n",
    "    gcd, inv = egcd(fi_n, e)\n",
    "    if gcd == 1:\n",
    "        return inv % fi_n"
   ]
  },
  {
   "cell_type": "code",
   "execution_count": 4,
   "metadata": {},
   "outputs": [
    {
     "name": "stdout",
     "output_type": "stream",
     "text": [
      "101279 deli 13169004533\n",
      "101279 130027\n",
      "35352181 deli 1690428486610429\n",
      "35352181 47816809\n"
     ]
    }
   ],
   "source": [
    "n = 13169004533\n",
    "_, r = primeTest(n)\n",
    "print(f'{r} {int(n/r)}')\n",
    "\n",
    "n = 1690428486610429\n",
    "_, r = primeTest(n)\n",
    "print(f'{r} {int(n/r)}')"
   ]
  },
  {
   "cell_type": "code",
   "execution_count": 13,
   "metadata": {},
   "outputs": [
    {
     "name": "stdout",
     "output_type": "stream",
     "text": [
      "factor is 6940440583\n",
      "56341958081545199783 - 6940440583 8117922401\n",
      "factor is 2924446284457\n",
      "6120215756887394998931731 - 2924446284457 2092777627483\n",
      "factor is 605742134588197\n",
      "514261067785300163931552303017 - 605742134588197 848976880459061\n"
     ]
    }
   ],
   "source": [
    "n = 56341958081545199783\n",
    "r = pollard(n, 2)\n",
    "print(f'{n} - {r} {int(n/r)}')\n",
    "\n",
    "n = 6120215756887394998931731\n",
    "r = pollard(n, r)\n",
    "print(f'{n} - {r} {int(n/r)}')\n",
    "\n",
    "n = 514261067785300163931552303017\n",
    "r = pollard(n, 2)\n",
    "print(f'{n} - {r} {int(n/r)}')"
   ]
  },
  {
   "cell_type": "code",
   "execution_count": 14,
   "metadata": {},
   "outputs": [
    {
     "name": "stdout",
     "output_type": "stream",
     "text": [
      "factor is 175824717389116441\n",
      "21259593755515403367535773703117421 - 175824717389116441 120913567052497776\n"
     ]
    }
   ],
   "source": [
    "n = 21259593755515403367535773703117421\n",
    "r = pollard(n, 2)\n",
    "print(f'{n} - {r} {int(n/r)}')"
   ]
  },
  {
   "cell_type": "markdown",
   "metadata": {},
   "source": [
    "120913567052497781\n",
    "\n",
    "WOLFRAM-ALPHA\n",
    "1371108864054663830856429909460283182291 - 29857785889724643173 45921317445260458967"
   ]
  },
  {
   "cell_type": "code",
   "execution_count": 5,
   "metadata": {},
   "outputs": [],
   "source": [
    "data = [\n",
    "    # p, q, y\n",
    "    [\n",
    "        13169004533,\n",
    "        101279,\n",
    "        130027,\n",
    "        6029832903\n",
    "    ],\n",
    "    [\n",
    "        1690428486610429,\n",
    "        35352181,\n",
    "        47816809,\n",
    "        22496913456008\n",
    "    ],\n",
    "    [\n",
    "        56341958081545199783,\n",
    "        6940440583, \n",
    "        8117922401,\n",
    "        17014716723435111315\n",
    "    ],\n",
    "    [\n",
    "        6120215756887394998931731,\n",
    "        2924446284457, \n",
    "        2092777627483, \n",
    "        5077587957348826939798388\n",
    "    ], \n",
    "    [\n",
    "        514261067785300163931552303017,\n",
    "        605742134588197, \n",
    "        848976880459061, \n",
    "        357341101854457993054768343508\n",
    "    ],\n",
    "    [\n",
    "        21259593755515403367535773703117421,\n",
    "        175824717389116441, \n",
    "        120913567052497781, \n",
    "        18829051270422357250395121195166553\n",
    "    ],\n",
    "    [\n",
    "        1371108864054663830856429909460283182291,\n",
    "        29857785889724643173, \n",
    "        45921317445260458967, \n",
    "        35962927026249687666434209737424754460\n",
    "    ]\n",
    "]"
   ]
  },
  {
   "cell_type": "code",
   "execution_count": 6,
   "metadata": {},
   "outputs": [
    {
     "name": "stdout",
     "output_type": "stream",
     "text": [
      "1234567890\n",
      "1234567890\n",
      "1234567890\n",
      "1234567890\n",
      "1234567890\n",
      "1234567890\n",
      "1234567890\n"
     ]
    }
   ],
   "source": [
    "for r in data:\n",
    "    d = modInverse((r[1] - 1)*(r[2] - 1), 65537)\n",
    "    print(pow(r[3], d, r[0]))"
   ]
  }
 ],
 "metadata": {
  "interpreter": {
   "hash": "eced270deba1111bffa9d0fdd603e2a01a32ab6c5111eea1ca9e80874d598251"
  },
  "kernelspec": {
   "display_name": "Python 3.7.10 64-bit ('cuda_pytorch_p37_env': conda)",
   "name": "python3"
  },
  "language_info": {
   "codemirror_mode": {
    "name": "ipython",
    "version": 3
   },
   "file_extension": ".py",
   "mimetype": "text/x-python",
   "name": "python",
   "nbconvert_exporter": "python",
   "pygments_lexer": "ipython3",
   "version": "3.7.10"
  },
  "orig_nbformat": 4
 },
 "nbformat": 4,
 "nbformat_minor": 2
}
